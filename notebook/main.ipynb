{
 "cells": [
  {
   "cell_type": "code",
   "execution_count": 20,
   "id": "ac14faac-1145-4f63-8cd0-08040517c9d5",
   "metadata": {},
   "outputs": [],
   "source": [
    "# For cloud gpu runpod.io\n",
    "\n",
    "# !pip install -q transformers==4.41 datasets peft accelerate deepspeed evaluate rouge-score"
   ]
  },
  {
   "cell_type": "code",
   "execution_count": 21,
   "id": "35b9cb0f-6140-4ad3-9679-0df616131a6c",
   "metadata": {},
   "outputs": [
    {
     "ename": "ModuleNotFoundError",
     "evalue": "No module named 'torch'",
     "output_type": "error",
     "traceback": [
      "\u001b[31m---------------------------------------------------------------------------\u001b[39m",
      "\u001b[31mModuleNotFoundError\u001b[39m                       Traceback (most recent call last)",
      "\u001b[36mCell\u001b[39m\u001b[36m \u001b[39m\u001b[32mIn[21]\u001b[39m\u001b[32m, line 1\u001b[39m\n\u001b[32m----> \u001b[39m\u001b[32m1\u001b[39m \u001b[38;5;28;01mimport\u001b[39;00m\u001b[38;5;250m \u001b[39m\u001b[34;01mjson\u001b[39;00m,\u001b[38;5;250m \u001b[39m\u001b[34;01mre\u001b[39;00m,\u001b[38;5;250m \u001b[39m\u001b[34;01mrandom\u001b[39;00m,\u001b[38;5;250m \u001b[39m\u001b[34;01mtorch\u001b[39;00m,\u001b[38;5;250m \u001b[39m\u001b[34;01mos\u001b[39;00m\n\u001b[32m      2\u001b[39m \u001b[38;5;28;01mfrom\u001b[39;00m\u001b[38;5;250m \u001b[39m\u001b[34;01mdatasets\u001b[39;00m\u001b[38;5;250m \u001b[39m\u001b[38;5;28;01mimport\u001b[39;00m Dataset, DatasetDict, load_dataset\n\u001b[32m      3\u001b[39m \u001b[38;5;28;01mfrom\u001b[39;00m\u001b[38;5;250m \u001b[39m\u001b[34;01mtransformers\u001b[39;00m\u001b[38;5;250m \u001b[39m\u001b[38;5;28;01mimport\u001b[39;00m (\n\u001b[32m      4\u001b[39m         AutoTokenizer, AutoModelForCausalLM,\n\u001b[32m      5\u001b[39m         TrainingArguments, Trainer, DataCollatorForLanguageModeling\n\u001b[32m      6\u001b[39m )\n",
      "\u001b[31mModuleNotFoundError\u001b[39m: No module named 'torch'"
     ]
    }
   ],
   "source": [
    "import json, re, random, torch, os\n",
    "from datasets import Dataset, DatasetDict, load_dataset\n",
    "from transformers import (\n",
    "        AutoTokenizer, AutoModelForCausalLM,\n",
    "        TrainingArguments, Trainer, DataCollatorForLanguageModeling\n",
    ")\n",
    "from peft import LoraConfig, get_peft_model, TaskType\n",
    "import evaluate\n",
    "from transformers import pipeline\n",
    "\n",
    "# Reproducibility\n",
    "random.seed(11)\n",
    "torch.manual_seed(11)"
   ]
  },
  {
   "cell_type": "markdown",
   "id": "fed2c286-a31e-46ce-9f58-0ad2c533ed47",
   "metadata": {},
   "source": [
    "### Build train / validation JSON"
   ]
  },
  {
   "cell_type": "code",
   "execution_count": 23,
   "id": "5a46712c-c8b5-496a-b428-1f297a0f7617",
   "metadata": {},
   "outputs": [
    {
     "name": "stdout",
     "output_type": "stream",
     "text": [
      "Train: 900  |  Validation: 100\n"
     ]
    }
   ],
   "source": [
    "data_path = Path(\"../pubmedqa/data/ori_pqal.json\")\n",
    "with open(data_path, \"r\") as f:\n",
    "    pubmedqa = json.load(f)\n",
    "\n",
    "def make_record(item):\n",
    "    prompt = (\n",
    "        f\"Question: {item['QUESTION']}\\n\"\n",
    "        f\"Context:  {' '.join(item['CONTEXTS'])}\\n\"\n",
    "        f\"Answer:\"\n",
    "    )\n",
    "    completion = \" \" + item[\"final_decision\"]   # leading space important\n",
    "    return {\"prompt\": prompt, \"completion\": completion}\n",
    "\n",
    "records = [make_record(v) for v in pubmedqa.values()]\n",
    "random.shuffle(records)\n",
    "\n",
    "split_idx = int(0.9 * len(records))\n",
    "train_recs, val_recs = records[:split_idx], records[split_idx:]\n",
    "\n",
    "for split, recs in ((\"train\", train_recs), (\"validation\", val_recs)):\n",
    "    with open(f\"{split}.jsonl\", \"w\") as f:\n",
    "        for r in recs:\n",
    "            f.write(json.dumps(r) + \"\\n\")\n",
    "\n",
    "print(f\"Train: {len(train_recs)}  |  Validation: {len(val_recs)}\")"
   ]
  },
  {
   "cell_type": "markdown",
   "id": "4a9c6587-1d4d-4604-a28e-a01c638aa4eb",
   "metadata": {},
   "source": [
    "### Load & tokenise"
   ]
  },
  {
   "cell_type": "code",
   "execution_count": null,
   "id": "81c89ebc-4b78-43f6-a3d7-5ba67c463f14",
   "metadata": {},
   "outputs": [],
   "source": [
    "base_model = \"openai/gpt-oss-20b\"\n",
    "tok = AutoTokenizer.from_pretrained(base_model, use_fast=True)\n",
    "tok.pad_token = tok.eos_token\n",
    "\n",
    "raw_ds = load_dataset(\"json\", data_files={\"train\":\"train.jsonl\",\n",
    "                                          \"validation\":\"validation.jsonl\"})\n",
    "\n",
    "block_size = 1024\n",
    "def tokenize(example):\n",
    "    full = example[\"prompt\"] + example[\"completion\"]\n",
    "    out = tok(full, truncation=True, max_length=block_size)\n",
    "    out[\"labels\"] = out[\"input_ids\"].copy()\n",
    "    return out\n",
    "\n",
    "tokenised = raw_ds.map(tokenize, remove_columns=raw_ds[\"train\"].column_names, num_proc=4)"
   ]
  },
  {
   "cell_type": "markdown",
   "id": "bf8480e3-b907-4874-9ce9-beffe68db113",
   "metadata": {},
   "source": [
    "### LoRA"
   ]
  },
  {
   "cell_type": "code",
   "execution_count": null,
   "id": "53f48a6b-d3ce-4507-861c-ece7564b8495",
   "metadata": {},
   "outputs": [],
   "source": [
    "lora_config = LoraConfig(\n",
    "    task_type=TaskType.CAUSAL_LM,\n",
    "    r=16,\n",
    "    lora_alpha=32,\n",
    "    lora_dropout=0.05,\n",
    "    target_modules=[\"c_attn\", \"c_proj\", \"c_fc\"],\n",
    ")\n",
    "\n",
    "\n",
    "model = AutoModelForCausalLM.from_pretrained(\n",
    "            base_model,\n",
    "            torch_dtype=torch.bfloat16,\n",
    "            device_map=\"auto\")\n",
    "model = get_peft_model(model, lora_config)\n",
    "model.enable_input_require_grads()\n",
    "model.print_trainable_parameters()"
   ]
  },
  {
   "cell_type": "markdown",
   "id": "adf1096e-6eda-4350-84ac-52f671fa8224",
   "metadata": {},
   "source": [
    "### Training"
   ]
  },
  {
   "cell_type": "code",
   "execution_count": null,
   "id": "2b8b5193-892f-4fb9-8876-54cca61fc79f",
   "metadata": {},
   "outputs": [],
   "source": [
    "training_args = TrainingArguments(\n",
    "    output_dir=\"gpt-oss-20b-pubmedqa-lora\",\n",
    "    per_device_train_batch_size=1,\n",
    "    per_device_eval_batch_size=1,\n",
    "    gradient_accumulation_steps=16,   # effective batch 16\n",
    "    num_train_epochs=1,\n",
    "    learning_rate=2e-4,\n",
    "    lr_scheduler_type=\"cosine\",\n",
    "    warmup_ratio=0.03,\n",
    "    logging_steps=25,\n",
    "    save_steps=250,\n",
    "    eval_steps=250,\n",
    "    evaluation_strategy=\"steps\",\n",
    "    bf16=True,\n",
    "    dataloader_pin_memory=False,\n",
    "    report_to=\"none\",\n",
    "    # deepspeed=\"ds_config_zero2.json\"  # switch on for multi-GPU\n",
    ")\n",
    "\n",
    "trainer = Trainer(\n",
    "    model=model,\n",
    "    args=training_args,\n",
    "    train_dataset=tokenised[\"train\"],\n",
    "    eval_dataset=tokenised[\"validation\"],\n",
    "    data_collator=DataCollatorForLanguageModeling(tok, mlm=False),\n",
    ")\n",
    "trainer.train()\n",
    "trainer.save_model(\"gpt-oss-20b-pubmedqa-lora/final\")\n",
    "tok.save_pretrained(\"gpt-oss-20b-pubmedqa-lora/final\")"
   ]
  },
  {
   "cell_type": "markdown",
   "id": "c9432daa-a04a-431d-92c1-34b8c3eaaa88",
   "metadata": {},
   "source": [
    "### Merge adapter → full checkpoint"
   ]
  },
  {
   "cell_type": "code",
   "execution_count": null,
   "id": "93ae214f-3a65-414d-b9b0-f200fc759342",
   "metadata": {},
   "outputs": [],
   "source": [
    "del model  # free memory\n",
    "base = AutoModelForCausalLM.from_pretrained(\n",
    "        base_model, torch_dtype=torch.bfloat16, device_map=\"auto\")\n",
    "lora = PeftModel.from_pretrained(base, \"gpt-oss-20b-pubmedqa-lora/final\")\n",
    "merged = lora.merge_and_unload()\n",
    "merged.save_pretrained(\"gpt-oss-20b-pubmed-lora\")\n",
    "tok.save_pretrained(\"gpt-oss-20b-pubmed-lora\")"
   ]
  },
  {
   "cell_type": "markdown",
   "id": "0d30cc48-f38d-4302-a77e-505aa9e5e051",
   "metadata": {},
   "source": [
    "### Evaluate"
   ]
  },
  {
   "cell_type": "code",
   "execution_count": null,
   "id": "d052742b-9b69-4b9d-bfa4-3156f3c18a43",
   "metadata": {},
   "outputs": [],
   "source": [
    "pipe = pipeline(\n",
    "        \"text-generation\",\n",
    "        model=\"gpt-oss-20b-pubmed-lora\",\n",
    "        tokenizer=\"gpt-oss-20b-pubmed-lora\",\n",
    "        torch_dtype=\"auto\",\n",
    "        device_map=\"auto\")\n",
    "\n",
    "test_path = Path(\"../pubmedqa/data/test_ground_truth.json\")\n",
    "test_data = json.load(open(test_path))\n",
    "\n",
    "def extract_ans(text):\n",
    "    m = re.findall(r\"Answer:\\s*(yes|no|maybe)\", text.lower())\n",
    "    return m[-1] if m else \"maybe\"\n",
    "\n",
    "refs, preds = [], []\n",
    "for rec in test_data.values():\n",
    "    prompt = (\n",
    "        f\"Question: {rec['QUESTION']}\\n\"\n",
    "        f\"Context:  {' '.join(rec['CONTEXTS'])}\\n\"\n",
    "        f\"Answer:\"\n",
    "    )\n",
    "    gen = pipe(prompt, max_new_tokens=5, do_sample=False)[0][\"generated_text\"]\n",
    "    preds.append(extract_ans(gen))\n",
    "    refs.append(rec[\"final_decision\"])\n",
    "\n",
    "accuracy_metric = evaluate.load(\"accuracy\")\n",
    "acc = accuracy_metric.compute(predictions=preds, references=refs)[\"accuracy\"]\n",
    "print(\"Official test accuracy:\", round(acc, 4))"
   ]
  }
 ],
 "metadata": {
  "kernelspec": {
   "display_name": "Python 3 (ipykernel)",
   "language": "python",
   "name": "python3"
  },
  "language_info": {
   "codemirror_mode": {
    "name": "ipython",
    "version": 3
   },
   "file_extension": ".py",
   "mimetype": "text/x-python",
   "name": "python",
   "nbconvert_exporter": "python",
   "pygments_lexer": "ipython3",
   "version": "3.12.11"
  }
 },
 "nbformat": 4,
 "nbformat_minor": 5
}
